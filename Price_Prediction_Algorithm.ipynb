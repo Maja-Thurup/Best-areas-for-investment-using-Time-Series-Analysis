{
  "nbformat": 4,
  "nbformat_minor": 0,
  "metadata": {
    "kernelspec": {
      "display_name": "Python 3",
      "language": "python",
      "name": "python3"
    },
    "language_info": {
      "codemirror_mode": {
        "name": "ipython",
        "version": 3
      },
      "file_extension": ".py",
      "mimetype": "text/x-python",
      "name": "python",
      "nbconvert_exporter": "python",
      "pygments_lexer": "ipython3",
      "version": "3.7.9"
    },
    "colab": {
      "name": "Price Prediction Algorithm.ipynb",
      "provenance": [],
      "toc_visible": true,
      "include_colab_link": true
    }
  },
  "cells": [
    {
      "cell_type": "markdown",
      "metadata": {
        "id": "view-in-github",
        "colab_type": "text"
      },
      "source": [
        "<a href=\"https://colab.research.google.com/github/Maja-Thurup/Best-areas-for-investment-using-Time-Series-Analysis/blob/master/Price_Prediction_Algorithm.ipynb\" target=\"_parent\"><img src=\"https://colab.research.google.com/assets/colab-badge.svg\" alt=\"Open In Colab\"/></a>"
      ]
    },
    {
      "cell_type": "code",
      "metadata": {
        "id": "twHCOcuX28tI"
      },
      "source": [
        "import numpy as np\n",
        "import pandas as pd\n",
        "import tensorflow as tf"
      ],
      "execution_count": 1,
      "outputs": []
    },
    {
      "cell_type": "code",
      "metadata": {
        "colab": {
          "base_uri": "https://localhost:8080/",
          "height": 180
        },
        "id": "csMwTf6d28tJ",
        "outputId": "df260dfb-92d7-40b2-93bf-dbd652fc298f"
      },
      "source": [
        "# physical_devices = tf.config.list_physical_devices('GPU') \n",
        "# tf.config.experimental.set_memory_growth(physical_devices[0], True)"
      ],
      "execution_count": 2,
      "outputs": [
        {
          "output_type": "error",
          "ename": "IndexError",
          "evalue": "ignored",
          "traceback": [
            "\u001b[0;31m---------------------------------------------------------------------------\u001b[0m",
            "\u001b[0;31mIndexError\u001b[0m                                Traceback (most recent call last)",
            "\u001b[0;32m<ipython-input-2-e0832f3f9e66>\u001b[0m in \u001b[0;36m<module>\u001b[0;34m()\u001b[0m\n\u001b[1;32m      1\u001b[0m \u001b[0mphysical_devices\u001b[0m \u001b[0;34m=\u001b[0m \u001b[0mtf\u001b[0m\u001b[0;34m.\u001b[0m\u001b[0mconfig\u001b[0m\u001b[0;34m.\u001b[0m\u001b[0mlist_physical_devices\u001b[0m\u001b[0;34m(\u001b[0m\u001b[0;34m'GPU'\u001b[0m\u001b[0;34m)\u001b[0m\u001b[0;34m\u001b[0m\u001b[0;34m\u001b[0m\u001b[0m\n\u001b[0;32m----> 2\u001b[0;31m \u001b[0mtf\u001b[0m\u001b[0;34m.\u001b[0m\u001b[0mconfig\u001b[0m\u001b[0;34m.\u001b[0m\u001b[0mexperimental\u001b[0m\u001b[0;34m.\u001b[0m\u001b[0mset_memory_growth\u001b[0m\u001b[0;34m(\u001b[0m\u001b[0mphysical_devices\u001b[0m\u001b[0;34m[\u001b[0m\u001b[0;36m0\u001b[0m\u001b[0;34m]\u001b[0m\u001b[0;34m,\u001b[0m \u001b[0;32mTrue\u001b[0m\u001b[0;34m)\u001b[0m\u001b[0;34m\u001b[0m\u001b[0;34m\u001b[0m\u001b[0m\n\u001b[0m",
            "\u001b[0;31mIndexError\u001b[0m: list index out of range"
          ]
        }
      ]
    },
    {
      "cell_type": "markdown",
      "metadata": {
        "id": "X5LFoIHp28tJ"
      },
      "source": [
        "Let's load the data"
      ]
    },
    {
      "cell_type": "code",
      "metadata": {
        "id": "L84g2D0x28tJ"
      },
      "source": [
        "df = pd.read_csv('final_cleaned_quotes - MainQuotes.csv')"
      ],
      "execution_count": 3,
      "outputs": []
    },
    {
      "cell_type": "markdown",
      "metadata": {
        "id": "6p5UUa7P28tJ"
      },
      "source": [
        "At first glance I can tell that data has a lot of categorical features and requires some preprocessing."
      ]
    },
    {
      "cell_type": "markdown",
      "metadata": {
        "id": "PG5Ef6qy28tK"
      },
      "source": [
        "I can't do exploratory analisys because of small amount of data. So I will:\n",
        "- Do some preprocessing and data cleaning\n",
        "- Prepare data to feed into neural network\n",
        "- Build simple Neural network\n",
        "- Run data throught NN to make sure it works"
      ]
    },
    {
      "cell_type": "code",
      "metadata": {
        "colab": {
          "base_uri": "https://localhost:8080/",
          "height": 359
        },
        "id": "rt12SbhY28tK",
        "outputId": "36308868-1b5c-4332-c563-eb2a93c33599"
      },
      "source": [
        "df.head(10)"
      ],
      "execution_count": 4,
      "outputs": [
        {
          "output_type": "execute_result",
          "data": {
            "text/html": [
              "<div>\n",
              "<style scoped>\n",
              "    .dataframe tbody tr th:only-of-type {\n",
              "        vertical-align: middle;\n",
              "    }\n",
              "\n",
              "    .dataframe tbody tr th {\n",
              "        vertical-align: top;\n",
              "    }\n",
              "\n",
              "    .dataframe thead th {\n",
              "        text-align: right;\n",
              "    }\n",
              "</style>\n",
              "<table border=\"1\" class=\"dataframe\">\n",
              "  <thead>\n",
              "    <tr style=\"text-align: right;\">\n",
              "      <th></th>\n",
              "      <th>Estimate #</th>\n",
              "      <th>Vendors</th>\n",
              "      <th>Printed</th>\n",
              "      <th>Material</th>\n",
              "      <th>Micrometers</th>\n",
              "      <th>Configuration</th>\n",
              "      <th>Width (mm)</th>\n",
              "      <th>Length (mm)</th>\n",
              "      <th>Gusset (mm)</th>\n",
              "      <th>Zipper</th>\n",
              "      <th>Features</th>\n",
              "      <th>SKUS</th>\n",
              "      <th>X qty</th>\n",
              "      <th>EXW/K</th>\n",
              "      <th>Notes</th>\n",
              "      <th>Unnamed: 15</th>\n",
              "    </tr>\n",
              "  </thead>\n",
              "  <tbody>\n",
              "    <tr>\n",
              "      <th>0</th>\n",
              "      <td>EST-2360</td>\n",
              "      <td>Glen</td>\n",
              "      <td>Digital</td>\n",
              "      <td>PET/PE</td>\n",
              "      <td>110</td>\n",
              "      <td>3-Seal</td>\n",
              "      <td>76</td>\n",
              "      <td>248</td>\n",
              "      <td>0</td>\n",
              "      <td>No</td>\n",
              "      <td>None</td>\n",
              "      <td>2</td>\n",
              "      <td>1000</td>\n",
              "      <td>291</td>\n",
              "      <td>NaN</td>\n",
              "      <td>NaN</td>\n",
              "    </tr>\n",
              "    <tr>\n",
              "      <th>1</th>\n",
              "      <td>EST-2357</td>\n",
              "      <td>Sarah / Ella</td>\n",
              "      <td>Digital</td>\n",
              "      <td>PET/VMPET/PE</td>\n",
              "      <td>100</td>\n",
              "      <td>Stand Up Pouch</td>\n",
              "      <td>102</td>\n",
              "      <td>152</td>\n",
              "      <td>64</td>\n",
              "      <td>No</td>\n",
              "      <td>None</td>\n",
              "      <td>3</td>\n",
              "      <td>5000</td>\n",
              "      <td>82</td>\n",
              "      <td>Digital below $100/K</td>\n",
              "      <td>NaN</td>\n",
              "    </tr>\n",
              "    <tr>\n",
              "      <th>2</th>\n",
              "      <td>EST-2357</td>\n",
              "      <td>Sarah / Ella</td>\n",
              "      <td>Digital</td>\n",
              "      <td>PET/VMPET/PE</td>\n",
              "      <td>100</td>\n",
              "      <td>Stand Up Pouch</td>\n",
              "      <td>102</td>\n",
              "      <td>152</td>\n",
              "      <td>64</td>\n",
              "      <td>No</td>\n",
              "      <td>None</td>\n",
              "      <td>3</td>\n",
              "      <td>10000</td>\n",
              "      <td>61,66666667</td>\n",
              "      <td>Digital below $100/K</td>\n",
              "      <td>NaN</td>\n",
              "    </tr>\n",
              "    <tr>\n",
              "      <th>3</th>\n",
              "      <td>EST-2356</td>\n",
              "      <td>Sarah / Ella</td>\n",
              "      <td>Plate</td>\n",
              "      <td>PET/VMPET/PE</td>\n",
              "      <td>100</td>\n",
              "      <td>Stand Up Pouch</td>\n",
              "      <td>184</td>\n",
              "      <td>254</td>\n",
              "      <td>90</td>\n",
              "      <td>Yes</td>\n",
              "      <td>None</td>\n",
              "      <td>4</td>\n",
              "      <td>5000</td>\n",
              "      <td>88</td>\n",
              "      <td>NaN</td>\n",
              "      <td>NaN</td>\n",
              "    </tr>\n",
              "    <tr>\n",
              "      <th>4</th>\n",
              "      <td>EST-2356</td>\n",
              "      <td>Sarah / Ella</td>\n",
              "      <td>Plate</td>\n",
              "      <td>PET/VMPET/PE</td>\n",
              "      <td>100</td>\n",
              "      <td>Stand Up Pouch</td>\n",
              "      <td>184</td>\n",
              "      <td>254</td>\n",
              "      <td>90</td>\n",
              "      <td>Yes</td>\n",
              "      <td>None</td>\n",
              "      <td>4</td>\n",
              "      <td>10000</td>\n",
              "      <td>78</td>\n",
              "      <td>NaN</td>\n",
              "      <td>NaN</td>\n",
              "    </tr>\n",
              "    <tr>\n",
              "      <th>5</th>\n",
              "      <td>EST-2356</td>\n",
              "      <td>Sarah / Ella</td>\n",
              "      <td>Plate</td>\n",
              "      <td>PET/VMPET/PE</td>\n",
              "      <td>100</td>\n",
              "      <td>Stand Up Pouch</td>\n",
              "      <td>184</td>\n",
              "      <td>254</td>\n",
              "      <td>90</td>\n",
              "      <td>Yes</td>\n",
              "      <td>None</td>\n",
              "      <td>4</td>\n",
              "      <td>25000</td>\n",
              "      <td>75</td>\n",
              "      <td>NaN</td>\n",
              "      <td>NaN</td>\n",
              "    </tr>\n",
              "    <tr>\n",
              "      <th>6</th>\n",
              "      <td>EST-2354</td>\n",
              "      <td>Glen</td>\n",
              "      <td>Plate</td>\n",
              "      <td>PET/AL/PE</td>\n",
              "      <td>110</td>\n",
              "      <td>3-Seal</td>\n",
              "      <td>102</td>\n",
              "      <td>127</td>\n",
              "      <td>0</td>\n",
              "      <td>No</td>\n",
              "      <td>None</td>\n",
              "      <td>1</td>\n",
              "      <td>5000</td>\n",
              "      <td>151</td>\n",
              "      <td>NaN</td>\n",
              "      <td>NaN</td>\n",
              "    </tr>\n",
              "    <tr>\n",
              "      <th>7</th>\n",
              "      <td>EST-2354</td>\n",
              "      <td>Glen</td>\n",
              "      <td>Plate</td>\n",
              "      <td>PET/AL/PE</td>\n",
              "      <td>110</td>\n",
              "      <td>3-Seal</td>\n",
              "      <td>102</td>\n",
              "      <td>127</td>\n",
              "      <td>0</td>\n",
              "      <td>No</td>\n",
              "      <td>None</td>\n",
              "      <td>1</td>\n",
              "      <td>20000</td>\n",
              "      <td>39</td>\n",
              "      <td>NaN</td>\n",
              "      <td>NaN</td>\n",
              "    </tr>\n",
              "    <tr>\n",
              "      <th>8</th>\n",
              "      <td>EST-2353</td>\n",
              "      <td>Glen</td>\n",
              "      <td>Plate</td>\n",
              "      <td>PET/VMPET/PE</td>\n",
              "      <td>110</td>\n",
              "      <td>Stand Up Pouch</td>\n",
              "      <td>178</td>\n",
              "      <td>222</td>\n",
              "      <td>76</td>\n",
              "      <td>Yes</td>\n",
              "      <td>None</td>\n",
              "      <td>3</td>\n",
              "      <td>5000</td>\n",
              "      <td>130</td>\n",
              "      <td>NaN</td>\n",
              "      <td>NaN</td>\n",
              "    </tr>\n",
              "    <tr>\n",
              "      <th>9</th>\n",
              "      <td>EST-2353</td>\n",
              "      <td>Glen</td>\n",
              "      <td>Plate</td>\n",
              "      <td>PET/VMPET/PE</td>\n",
              "      <td>110</td>\n",
              "      <td>Stand Up Pouch</td>\n",
              "      <td>178</td>\n",
              "      <td>222</td>\n",
              "      <td>76</td>\n",
              "      <td>Yes</td>\n",
              "      <td>None</td>\n",
              "      <td>3</td>\n",
              "      <td>10000</td>\n",
              "      <td>84</td>\n",
              "      <td>NaN</td>\n",
              "      <td>NaN</td>\n",
              "    </tr>\n",
              "  </tbody>\n",
              "</table>\n",
              "</div>"
            ],
            "text/plain": [
              "  Estimate #       Vendors  ...                 Notes Unnamed: 15\n",
              "0   EST-2360          Glen  ...                   NaN         NaN\n",
              "1   EST-2357  Sarah / Ella  ...  Digital below $100/K         NaN\n",
              "2   EST-2357  Sarah / Ella  ...  Digital below $100/K         NaN\n",
              "3   EST-2356  Sarah / Ella  ...                   NaN         NaN\n",
              "4   EST-2356  Sarah / Ella  ...                   NaN         NaN\n",
              "5   EST-2356  Sarah / Ella  ...                   NaN         NaN\n",
              "6   EST-2354          Glen  ...                   NaN         NaN\n",
              "7   EST-2354          Glen  ...                   NaN         NaN\n",
              "8   EST-2353          Glen  ...                   NaN         NaN\n",
              "9   EST-2353          Glen  ...                   NaN         NaN\n",
              "\n",
              "[10 rows x 16 columns]"
            ]
          },
          "metadata": {
            "tags": []
          },
          "execution_count": 4
        }
      ]
    },
    {
      "cell_type": "code",
      "metadata": {
        "colab": {
          "base_uri": "https://localhost:8080/"
        },
        "id": "Kpk9oZQh28tK",
        "outputId": "c929f244-b2e3-4354-8392-66e34ec48083"
      },
      "source": [
        "df.info()"
      ],
      "execution_count": 5,
      "outputs": [
        {
          "output_type": "stream",
          "text": [
            "<class 'pandas.core.frame.DataFrame'>\n",
            "RangeIndex: 211 entries, 0 to 210\n",
            "Data columns (total 16 columns):\n",
            " #   Column         Non-Null Count  Dtype \n",
            "---  ------         --------------  ----- \n",
            " 0   Estimate #     211 non-null    object\n",
            " 1   Vendors        211 non-null    object\n",
            " 2   Printed        211 non-null    object\n",
            " 3   Material       211 non-null    object\n",
            " 4   Micrometers    211 non-null    int64 \n",
            " 5   Configuration  211 non-null    object\n",
            " 6   Width (mm)     211 non-null    object\n",
            " 7   Length (mm)    211 non-null    object\n",
            " 8   Gusset (mm)    211 non-null    object\n",
            " 9   Zipper         211 non-null    object\n",
            " 10  Features       211 non-null    object\n",
            " 11  SKUS           211 non-null    int64 \n",
            " 12  X qty          211 non-null    int64 \n",
            " 13  EXW/K          211 non-null    object\n",
            " 14  Notes          29 non-null     object\n",
            " 15  Unnamed: 15    7 non-null      object\n",
            "dtypes: int64(3), object(13)\n",
            "memory usage: 26.5+ KB\n"
          ],
          "name": "stdout"
        }
      ]
    },
    {
      "cell_type": "code",
      "metadata": {
        "colab": {
          "base_uri": "https://localhost:8080/"
        },
        "id": "99TmXFvY28tL",
        "outputId": "5a4570ee-ee35-4760-803b-f8230e9abdae"
      },
      "source": [
        "df.apply(lambda x: x.nunique(), axis=0)"
      ],
      "execution_count": 6,
      "outputs": [
        {
          "output_type": "execute_result",
          "data": {
            "text/plain": [
              "Estimate #       104\n",
              "Vendors            6\n",
              "Printed            3\n",
              "Material          14\n",
              "Micrometers        4\n",
              "Configuration      4\n",
              "Width (mm)        48\n",
              "Length (mm)       45\n",
              "Gusset (mm)       22\n",
              "Zipper             5\n",
              "Features           3\n",
              "SKUS              11\n",
              "X qty             17\n",
              "EXW/K            158\n",
              "Notes             20\n",
              "Unnamed: 15        7\n",
              "dtype: int64"
            ]
          },
          "metadata": {
            "tags": []
          },
          "execution_count": 6
        }
      ]
    },
    {
      "cell_type": "markdown",
      "metadata": {
        "id": "WGPA7JmC28tL"
      },
      "source": [
        "*I am going to drop unnecesary columns* "
      ]
    },
    {
      "cell_type": "markdown",
      "metadata": {
        "id": "DXNUizbQ28tL"
      },
      "source": [
        "Also there two types of features: numerical and categorical"
      ]
    },
    {
      "cell_type": "code",
      "metadata": {
        "id": "CCERiDoK28tL"
      },
      "source": [
        "Features = df.drop(['Estimate #','Unnamed: 15','Notes'], axis=1 )"
      ],
      "execution_count": 7,
      "outputs": []
    },
    {
      "cell_type": "code",
      "metadata": {
        "id": "AfrVkgzh28tL"
      },
      "source": [
        "categorical = ['Vendors', 'Printed', 'Material', \n",
        "               'Configuration', 'Zipper', 'Features']"
      ],
      "execution_count": 8,
      "outputs": []
    },
    {
      "cell_type": "code",
      "metadata": {
        "id": "02OtRC8M28tM"
      },
      "source": [
        "cat = Features.loc[:, categorical]\n",
        "num = Features.drop(categorical, axis=1)"
      ],
      "execution_count": 9,
      "outputs": []
    },
    {
      "cell_type": "markdown",
      "metadata": {
        "id": "8P2ve2lS28tM"
      },
      "source": [
        "categorical before cleaning"
      ]
    },
    {
      "cell_type": "code",
      "metadata": {
        "colab": {
          "base_uri": "https://localhost:8080/",
          "height": 111
        },
        "id": "6o4-cxiS28tM",
        "outputId": "a5d0a25d-6bc2-446a-a8c0-4c6d6930e31b"
      },
      "source": [
        "cat.head(2)"
      ],
      "execution_count": 10,
      "outputs": [
        {
          "output_type": "execute_result",
          "data": {
            "text/html": [
              "<div>\n",
              "<style scoped>\n",
              "    .dataframe tbody tr th:only-of-type {\n",
              "        vertical-align: middle;\n",
              "    }\n",
              "\n",
              "    .dataframe tbody tr th {\n",
              "        vertical-align: top;\n",
              "    }\n",
              "\n",
              "    .dataframe thead th {\n",
              "        text-align: right;\n",
              "    }\n",
              "</style>\n",
              "<table border=\"1\" class=\"dataframe\">\n",
              "  <thead>\n",
              "    <tr style=\"text-align: right;\">\n",
              "      <th></th>\n",
              "      <th>Vendors</th>\n",
              "      <th>Printed</th>\n",
              "      <th>Material</th>\n",
              "      <th>Configuration</th>\n",
              "      <th>Zipper</th>\n",
              "      <th>Features</th>\n",
              "    </tr>\n",
              "  </thead>\n",
              "  <tbody>\n",
              "    <tr>\n",
              "      <th>0</th>\n",
              "      <td>Glen</td>\n",
              "      <td>Digital</td>\n",
              "      <td>PET/PE</td>\n",
              "      <td>3-Seal</td>\n",
              "      <td>No</td>\n",
              "      <td>None</td>\n",
              "    </tr>\n",
              "    <tr>\n",
              "      <th>1</th>\n",
              "      <td>Sarah / Ella</td>\n",
              "      <td>Digital</td>\n",
              "      <td>PET/VMPET/PE</td>\n",
              "      <td>Stand Up Pouch</td>\n",
              "      <td>No</td>\n",
              "      <td>None</td>\n",
              "    </tr>\n",
              "  </tbody>\n",
              "</table>\n",
              "</div>"
            ],
            "text/plain": [
              "        Vendors  Printed      Material   Configuration Zipper Features\n",
              "0          Glen  Digital        PET/PE          3-Seal     No     None\n",
              "1  Sarah / Ella  Digital  PET/VMPET/PE  Stand Up Pouch     No     None"
            ]
          },
          "metadata": {
            "tags": []
          },
          "execution_count": 10
        }
      ]
    },
    {
      "cell_type": "code",
      "metadata": {
        "id": "IxEwxohL28tM"
      },
      "source": [
        "target = num['EXW/K'].map(lambda x: x.replace('$','').replace(',','.'))\n",
        "target = target.astype('float') # our target variables\n",
        "num = num.drop('EXW/K', axis=1)"
      ],
      "execution_count": 11,
      "outputs": []
    },
    {
      "cell_type": "code",
      "metadata": {
        "id": "lj_ecrG728tM"
      },
      "source": [
        "cat = pd.get_dummies(cat)"
      ],
      "execution_count": 12,
      "outputs": []
    },
    {
      "cell_type": "code",
      "metadata": {
        "id": "B_UrKynE28tM"
      },
      "source": [
        "for col in ['Width (mm)', 'Length (mm)','Gusset (mm)']:\n",
        "    num[col] = num[col].map(lambda x: x.replace(',','.')).astype('float')"
      ],
      "execution_count": 13,
      "outputs": []
    },
    {
      "cell_type": "markdown",
      "metadata": {
        "id": "pdmgXvKJ28tN"
      },
      "source": [
        "Categorical after cleaning"
      ]
    },
    {
      "cell_type": "code",
      "metadata": {
        "colab": {
          "base_uri": "https://localhost:8080/",
          "height": 165
        },
        "id": "Pta4DJUd28tN",
        "outputId": "88bf68a4-e8cf-4e72-8f65-fddee782d06c"
      },
      "source": [
        "cat.head(2)"
      ],
      "execution_count": 14,
      "outputs": [
        {
          "output_type": "execute_result",
          "data": {
            "text/html": [
              "<div>\n",
              "<style scoped>\n",
              "    .dataframe tbody tr th:only-of-type {\n",
              "        vertical-align: middle;\n",
              "    }\n",
              "\n",
              "    .dataframe tbody tr th {\n",
              "        vertical-align: top;\n",
              "    }\n",
              "\n",
              "    .dataframe thead th {\n",
              "        text-align: right;\n",
              "    }\n",
              "</style>\n",
              "<table border=\"1\" class=\"dataframe\">\n",
              "  <thead>\n",
              "    <tr style=\"text-align: right;\">\n",
              "      <th></th>\n",
              "      <th>Vendors_Eric</th>\n",
              "      <th>Vendors_Glen</th>\n",
              "      <th>Vendors_Mars / Amber</th>\n",
              "      <th>Vendors_Sarah / Ella</th>\n",
              "      <th>Vendors_Sunny</th>\n",
              "      <th>Vendors_XWPAK</th>\n",
              "      <th>Printed_Digital</th>\n",
              "      <th>Printed_Not Printed</th>\n",
              "      <th>Printed_Plate</th>\n",
              "      <th>Material_KPET/PE</th>\n",
              "      <th>Material_MOPP/AL/PE</th>\n",
              "      <th>Material_MOPP/NYLON/VMPET/PE</th>\n",
              "      <th>Material_MOPP/PAPER/PE</th>\n",
              "      <th>Material_MOPP/PAPER/VMPET/PE</th>\n",
              "      <th>Material_MOPP/VMPET/PE</th>\n",
              "      <th>Material_NKR</th>\n",
              "      <th>Material_PAPER/PLA</th>\n",
              "      <th>Material_PET/AL/NY/PE</th>\n",
              "      <th>Material_PET/AL/PE</th>\n",
              "      <th>Material_PET/NY/PE</th>\n",
              "      <th>Material_PET/PE</th>\n",
              "      <th>Material_PET/VMPET/NYLON/PE</th>\n",
              "      <th>Material_PET/VMPET/PE</th>\n",
              "      <th>Configuration_2-Seal</th>\n",
              "      <th>Configuration_3-Seal</th>\n",
              "      <th>Configuration_8-Seal Pouch</th>\n",
              "      <th>Configuration_Stand Up Pouch</th>\n",
              "      <th>Zipper_CR Zipper</th>\n",
              "      <th>Zipper_No</th>\n",
              "      <th>Zipper_Pull Tab Zipper</th>\n",
              "      <th>Zipper_Tin-Tie</th>\n",
              "      <th>Zipper_Yes</th>\n",
              "      <th>Features_De-gassing Valve</th>\n",
              "      <th>Features_None</th>\n",
              "      <th>Features_Rounded Corners</th>\n",
              "    </tr>\n",
              "  </thead>\n",
              "  <tbody>\n",
              "    <tr>\n",
              "      <th>0</th>\n",
              "      <td>0</td>\n",
              "      <td>1</td>\n",
              "      <td>0</td>\n",
              "      <td>0</td>\n",
              "      <td>0</td>\n",
              "      <td>0</td>\n",
              "      <td>1</td>\n",
              "      <td>0</td>\n",
              "      <td>0</td>\n",
              "      <td>0</td>\n",
              "      <td>0</td>\n",
              "      <td>0</td>\n",
              "      <td>0</td>\n",
              "      <td>0</td>\n",
              "      <td>0</td>\n",
              "      <td>0</td>\n",
              "      <td>0</td>\n",
              "      <td>0</td>\n",
              "      <td>0</td>\n",
              "      <td>0</td>\n",
              "      <td>1</td>\n",
              "      <td>0</td>\n",
              "      <td>0</td>\n",
              "      <td>0</td>\n",
              "      <td>1</td>\n",
              "      <td>0</td>\n",
              "      <td>0</td>\n",
              "      <td>0</td>\n",
              "      <td>1</td>\n",
              "      <td>0</td>\n",
              "      <td>0</td>\n",
              "      <td>0</td>\n",
              "      <td>0</td>\n",
              "      <td>1</td>\n",
              "      <td>0</td>\n",
              "    </tr>\n",
              "    <tr>\n",
              "      <th>1</th>\n",
              "      <td>0</td>\n",
              "      <td>0</td>\n",
              "      <td>0</td>\n",
              "      <td>1</td>\n",
              "      <td>0</td>\n",
              "      <td>0</td>\n",
              "      <td>1</td>\n",
              "      <td>0</td>\n",
              "      <td>0</td>\n",
              "      <td>0</td>\n",
              "      <td>0</td>\n",
              "      <td>0</td>\n",
              "      <td>0</td>\n",
              "      <td>0</td>\n",
              "      <td>0</td>\n",
              "      <td>0</td>\n",
              "      <td>0</td>\n",
              "      <td>0</td>\n",
              "      <td>0</td>\n",
              "      <td>0</td>\n",
              "      <td>0</td>\n",
              "      <td>0</td>\n",
              "      <td>1</td>\n",
              "      <td>0</td>\n",
              "      <td>0</td>\n",
              "      <td>0</td>\n",
              "      <td>1</td>\n",
              "      <td>0</td>\n",
              "      <td>1</td>\n",
              "      <td>0</td>\n",
              "      <td>0</td>\n",
              "      <td>0</td>\n",
              "      <td>0</td>\n",
              "      <td>1</td>\n",
              "      <td>0</td>\n",
              "    </tr>\n",
              "  </tbody>\n",
              "</table>\n",
              "</div>"
            ],
            "text/plain": [
              "   Vendors_Eric  Vendors_Glen  ...  Features_None  Features_Rounded Corners\n",
              "0             0             1  ...              1                         0\n",
              "1             0             0  ...              1                         0\n",
              "\n",
              "[2 rows x 35 columns]"
            ]
          },
          "metadata": {
            "tags": []
          },
          "execution_count": 14
        }
      ]
    },
    {
      "cell_type": "markdown",
      "metadata": {
        "id": "RTJaz4cB28tN"
      },
      "source": [
        "Numerical after cleaning"
      ]
    },
    {
      "cell_type": "code",
      "metadata": {
        "colab": {
          "base_uri": "https://localhost:8080/",
          "height": 111
        },
        "id": "9UQVqX7028tN",
        "outputId": "41dadcf9-d998-4c55-dbee-6188fd48c63f"
      },
      "source": [
        "num.head(2)"
      ],
      "execution_count": 15,
      "outputs": [
        {
          "output_type": "execute_result",
          "data": {
            "text/html": [
              "<div>\n",
              "<style scoped>\n",
              "    .dataframe tbody tr th:only-of-type {\n",
              "        vertical-align: middle;\n",
              "    }\n",
              "\n",
              "    .dataframe tbody tr th {\n",
              "        vertical-align: top;\n",
              "    }\n",
              "\n",
              "    .dataframe thead th {\n",
              "        text-align: right;\n",
              "    }\n",
              "</style>\n",
              "<table border=\"1\" class=\"dataframe\">\n",
              "  <thead>\n",
              "    <tr style=\"text-align: right;\">\n",
              "      <th></th>\n",
              "      <th>Micrometers</th>\n",
              "      <th>Width (mm)</th>\n",
              "      <th>Length (mm)</th>\n",
              "      <th>Gusset (mm)</th>\n",
              "      <th>SKUS</th>\n",
              "      <th>X qty</th>\n",
              "    </tr>\n",
              "  </thead>\n",
              "  <tbody>\n",
              "    <tr>\n",
              "      <th>0</th>\n",
              "      <td>110</td>\n",
              "      <td>76.0</td>\n",
              "      <td>248.0</td>\n",
              "      <td>0.0</td>\n",
              "      <td>2</td>\n",
              "      <td>1000</td>\n",
              "    </tr>\n",
              "    <tr>\n",
              "      <th>1</th>\n",
              "      <td>100</td>\n",
              "      <td>102.0</td>\n",
              "      <td>152.0</td>\n",
              "      <td>64.0</td>\n",
              "      <td>3</td>\n",
              "      <td>5000</td>\n",
              "    </tr>\n",
              "  </tbody>\n",
              "</table>\n",
              "</div>"
            ],
            "text/plain": [
              "   Micrometers  Width (mm)  Length (mm)  Gusset (mm)  SKUS  X qty\n",
              "0          110        76.0        248.0          0.0     2   1000\n",
              "1          100       102.0        152.0         64.0     3   5000"
            ]
          },
          "metadata": {
            "tags": []
          },
          "execution_count": 15
        }
      ]
    },
    {
      "cell_type": "markdown",
      "metadata": {
        "id": "TAzhv4LG28tN"
      },
      "source": [
        "# Modelling"
      ]
    },
    {
      "cell_type": "markdown",
      "metadata": {
        "id": "OFMtmRqn28tN"
      },
      "source": [
        "Here I am going to build simple Neural Network as an example how this dataset can be used to predict price"
      ]
    },
    {
      "cell_type": "code",
      "metadata": {
        "id": "UnCUt5Nb28tO"
      },
      "source": [
        "\n",
        "from tensorflow.keras.models import Sequential\n",
        "from tensorflow.keras.layers import Dropout, Dense , Flatten, Activation\n",
        "from sklearn.model_selection import train_test_split\n",
        "from sklearn.ensemble import RandomForestRegressor\n",
        "from sklearn.metrics import mean_absolute_error \n"
      ],
      "execution_count": 16,
      "outputs": []
    },
    {
      "cell_type": "code",
      "metadata": {
        "id": "bOZtoKXd28tO"
      },
      "source": [
        "X = pd.concat([cat, num], axis=1).values #Features\n",
        "y = target.values #targets"
      ],
      "execution_count": 17,
      "outputs": []
    },
    {
      "cell_type": "code",
      "metadata": {
        "colab": {
          "base_uri": "https://localhost:8080/"
        },
        "id": "tPBaDhCg28tO",
        "outputId": "276330a7-25ef-4c26-90e8-29f1ec2100a5"
      },
      "source": [
        "X.shape"
      ],
      "execution_count": 18,
      "outputs": [
        {
          "output_type": "execute_result",
          "data": {
            "text/plain": [
              "(211, 41)"
            ]
          },
          "metadata": {
            "tags": []
          },
          "execution_count": 18
        }
      ]
    },
    {
      "cell_type": "code",
      "metadata": {
        "colab": {
          "base_uri": "https://localhost:8080/"
        },
        "id": "W8tX_aX528tO",
        "outputId": "6aab1a9b-d6d7-40dc-ee68-51db0861cd33"
      },
      "source": [
        "y.shape"
      ],
      "execution_count": 19,
      "outputs": [
        {
          "output_type": "execute_result",
          "data": {
            "text/plain": [
              "(211,)"
            ]
          },
          "metadata": {
            "tags": []
          },
          "execution_count": 19
        }
      ]
    },
    {
      "cell_type": "code",
      "metadata": {
        "colab": {
          "base_uri": "https://localhost:8080/"
        },
        "id": "nBQQmqHB28tO",
        "outputId": "29473aea-2f1f-47e6-8570-896f544221eb"
      },
      "source": [
        "model = Sequential()\n",
        "\n",
        "# The Input Layer :\n",
        "model.add(Dense(32, kernel_initializer='normal',input_dim = X.shape[1], activation='relu'))\n",
        "\n",
        "# The Hidden Layers :\n",
        "model.add(Dense(16, kernel_initializer='normal',activation='relu'))\n",
        "model.add(Dense(16, kernel_initializer='normal',activation='relu'))\n",
        "model.add(Dense(16, kernel_initializer='normal',activation='relu'))\n",
        "\n",
        "# The Output Layer :\n",
        "model.add(Dense(1, kernel_initializer='normal',activation='linear'))\n",
        "\n",
        "# Compile the network :\n",
        "model.compile(loss='mean_absolute_error', optimizer='adam', metrics=['mean_absolute_error'])\n",
        "model.summary()"
      ],
      "execution_count": 20,
      "outputs": [
        {
          "output_type": "stream",
          "text": [
            "Model: \"sequential\"\n",
            "_________________________________________________________________\n",
            "Layer (type)                 Output Shape              Param #   \n",
            "=================================================================\n",
            "dense (Dense)                (None, 32)                1344      \n",
            "_________________________________________________________________\n",
            "dense_1 (Dense)              (None, 16)                528       \n",
            "_________________________________________________________________\n",
            "dense_2 (Dense)              (None, 16)                272       \n",
            "_________________________________________________________________\n",
            "dense_3 (Dense)              (None, 16)                272       \n",
            "_________________________________________________________________\n",
            "dense_4 (Dense)              (None, 1)                 17        \n",
            "=================================================================\n",
            "Total params: 2,433\n",
            "Trainable params: 2,433\n",
            "Non-trainable params: 0\n",
            "_________________________________________________________________\n"
          ],
          "name": "stdout"
        }
      ]
    },
    {
      "cell_type": "code",
      "metadata": {
        "colab": {
          "base_uri": "https://localhost:8080/"
        },
        "id": "HERDURC-28tO",
        "outputId": "b2446417-7f2f-402f-cf6b-5e3d4d14c173"
      },
      "source": [
        "model.fit(X, y, epochs=10, batch_size=16, validation_split = 0.2)\n"
      ],
      "execution_count": 21,
      "outputs": [
        {
          "output_type": "stream",
          "text": [
            "Epoch 1/10\n",
            "11/11 [==============================] - 1s 26ms/step - loss: 201.1075 - mean_absolute_error: 201.1075 - val_loss: 127.3347 - val_mean_absolute_error: 127.3347\n",
            "Epoch 2/10\n",
            "11/11 [==============================] - 0s 7ms/step - loss: 217.4308 - mean_absolute_error: 217.4308 - val_loss: 115.6485 - val_mean_absolute_error: 115.6485\n",
            "Epoch 3/10\n",
            "11/11 [==============================] - 0s 6ms/step - loss: 194.6519 - mean_absolute_error: 194.6519 - val_loss: 119.2050 - val_mean_absolute_error: 119.2050\n",
            "Epoch 4/10\n",
            "11/11 [==============================] - 0s 5ms/step - loss: 237.4057 - mean_absolute_error: 237.4057 - val_loss: 148.4017 - val_mean_absolute_error: 148.4017\n",
            "Epoch 5/10\n",
            "11/11 [==============================] - 0s 6ms/step - loss: 208.1648 - mean_absolute_error: 208.1648 - val_loss: 169.7229 - val_mean_absolute_error: 169.7229\n",
            "Epoch 6/10\n",
            "11/11 [==============================] - 0s 6ms/step - loss: 231.8982 - mean_absolute_error: 231.8982 - val_loss: 149.0072 - val_mean_absolute_error: 149.0072\n",
            "Epoch 7/10\n",
            "11/11 [==============================] - 0s 6ms/step - loss: 211.4969 - mean_absolute_error: 211.4969 - val_loss: 144.1345 - val_mean_absolute_error: 144.1345\n",
            "Epoch 8/10\n",
            "11/11 [==============================] - 0s 6ms/step - loss: 221.9526 - mean_absolute_error: 221.9526 - val_loss: 141.4230 - val_mean_absolute_error: 141.4230\n",
            "Epoch 9/10\n",
            "11/11 [==============================] - 0s 6ms/step - loss: 181.7158 - mean_absolute_error: 181.7158 - val_loss: 136.3079 - val_mean_absolute_error: 136.3079\n",
            "Epoch 10/10\n",
            "11/11 [==============================] - 0s 5ms/step - loss: 194.2167 - mean_absolute_error: 194.2167 - val_loss: 139.9836 - val_mean_absolute_error: 139.9836\n"
          ],
          "name": "stdout"
        },
        {
          "output_type": "execute_result",
          "data": {
            "text/plain": [
              "<tensorflow.python.keras.callbacks.History at 0x7f9af186c390>"
            ]
          },
          "metadata": {
            "tags": []
          },
          "execution_count": 21
        }
      ]
    },
    {
      "cell_type": "markdown",
      "metadata": {
        "id": "G1951sdW28tP"
      },
      "source": [
        "As we can see mean error is pretty high. It is possible to increase accuracy with:\n",
        "- Larger number of samples\n",
        "- Larger validation set\n",
        "- More complicated Neural Network Architechture\n",
        "\n",
        "As a conclusion I can say that NN will be a good solution for this kind of problem."
      ]
    },
    {
      "cell_type": "code",
      "metadata": {
        "id": "o2RBI1Hk28tP"
      },
      "source": [
        ""
      ],
      "execution_count": null,
      "outputs": []
    }
  ]
}